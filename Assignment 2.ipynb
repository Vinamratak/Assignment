{
 "cells": [
  {
   "cell_type": "markdown",
   "metadata": {},
   "source": [
    "1.1  Write a Python Program to implement your own myreduce() function which works exactly like\n",
    "Python's built-in function reduce()"
   ]
  },
  {
   "cell_type": "code",
   "execution_count": null,
   "metadata": {},
   "outputs": [],
   "source": [
    "def sum(x, y):\n",
    "    return x + y\n",
    "\n",
    "\n",
    "def myreduce(func, seq):\n",
    "    ls = seq[0]\n",
    "    for i in seq[1:]:\n",
    "        ls = func(ls, i)\n",
    "    return ls\n",
    "\n",
    "myreduce(sum, [1,2,3,4,5,6,7,8,9,10])"
   ]
  },
  {
   "cell_type": "markdown",
   "metadata": {},
   "source": [
    "1.2\n",
    "Write a Python program to implement your own myfilter() function which works exactly like\n",
    "Python's built-in function filter()"
   ]
  },
  {
   "cell_type": "code",
   "execution_count": null,
   "metadata": {},
   "outputs": [],
   "source": [
    "def iseven(v1):\n",
    "    val = []\n",
    "    for i in range(v1):\n",
    "        if i % 2 == 0 :\n",
    "            val.append(i)\n",
    "    return(val)\n",
    "\n",
    "def myfilter(func , val):\n",
    "    ls = func(val)\n",
    "    return ls \n",
    "\n",
    "myfilter(iseven, 10)"
   ]
  },
  {
   "cell_type": "markdown",
   "metadata": {},
   "source": [
    "Implement List comprehensions to produce the following lists. Write List comprehensions to produce the following Lists\n"
   ]
  },
  {
   "cell_type": "markdown",
   "metadata": {},
   "source": [
    "['A', 'C', 'A', 'D', 'G', 'I', ’L’, ‘ D’]"
   ]
  },
  {
   "cell_type": "code",
   "execution_count": null,
   "metadata": {},
   "outputs": [],
   "source": [
    "ls = [i for i in ['A', 'C', 'A', 'D', 'G', 'I', 'L', 'D']]\n",
    "ls"
   ]
  },
  {
   "cell_type": "markdown",
   "metadata": {},
   "source": [
    "['x', 'xx', 'xxx', 'xxxx', 'y', 'yy', 'yyy', 'yyyy', 'z', 'zz', 'zzz', 'zzzz']"
   ]
  },
  {
   "cell_type": "code",
   "execution_count": null,
   "metadata": {},
   "outputs": [],
   "source": [
    "ls_1 = ['x','y','z']\n",
    "ls = [i*j for i in ls_1 for j in range(1,5)]\n",
    "ls"
   ]
  },
  {
   "cell_type": "markdown",
   "metadata": {},
   "source": [
    "['x', 'y', 'z', 'xx', 'yy', 'zz', 'xx', 'yy', 'zz', 'xxxx', 'yyyy', 'zzzz']"
   ]
  },
  {
   "cell_type": "code",
   "execution_count": null,
   "metadata": {},
   "outputs": [],
   "source": [
    "ls_1 = ['x', 'y', 'z']\n",
    "ls = [i*j for i in range(1,5) for j in ls_1]\n",
    "ls"
   ]
  },
  {
   "cell_type": "markdown",
   "metadata": {},
   "source": [
    "[[2], [3], [4], [3], [4], [5], [4], [5], [6]]"
   ]
  },
  {
   "cell_type": "code",
   "execution_count": null,
   "metadata": {},
   "outputs": [],
   "source": [
    "ls_l = [[i+j] for i in range(2,5) for j in range(0,3)] \n",
    "ls_l"
   ]
  },
  {
   "cell_type": "markdown",
   "metadata": {},
   "source": [
    "[[2, 3, 4, 5], [3, 4, 5, 6], [4, 5, 6, 7], [5, 6, 7, 8]]"
   ]
  },
  {
   "cell_type": "code",
   "execution_count": null,
   "metadata": {},
   "outputs": [],
   "source": [
    "ls_l = [[i+j for i in range(2,5)] for j in range(0,3)] \n",
    "ls_l"
   ]
  },
  {
   "cell_type": "markdown",
   "metadata": {},
   "source": [
    "[(1, 1), (2, 1), (3, 1), (1, 2), (2, 2), (3, 2), (1, 3), (2, 3), (3, 3)]"
   ]
  },
  {
   "cell_type": "code",
   "execution_count": null,
   "metadata": {
    "scrolled": true
   },
   "outputs": [],
   "source": [
    "ls_1 = [(j, i) for i in range(1,4) for j in range(1,4)]\n",
    "ls_1"
   ]
  },
  {
   "cell_type": "markdown",
   "metadata": {},
   "source": [
    "3. Implement a function longestWord() that takes a list of words and returns the longest one."
   ]
  },
  {
   "cell_type": "code",
   "execution_count": null,
   "metadata": {},
   "outputs": [],
   "source": [
    "def longestWord(i_word):\n",
    "    ls = []\n",
    "    f_ls = []\n",
    "    for i in i_word.split(','):\n",
    "        if len(f_ls) < len(i):\n",
    "            f_ls = i\n",
    "    return f_ls\n",
    "    \n",
    "    \n",
    "longestWord('Test, Test1 , Test12, Test123,')"
   ]
  },
  {
   "cell_type": "markdown",
   "metadata": {},
   "source": [
    "TASK 2 \n",
    "1.1\n",
    "Write a Python Program(with class concepts) to find the area of the triangle using the below formula.\n",
    "area = (s*(s-a)*(s-b)*(s-c)) ** 0.5\n",
    "\n",
    "Function to take the length of the sides of triangle from user should be defined in the parent class and function to calculate the area should be defined in subclass."
   ]
  },
  {
   "cell_type": "code",
   "execution_count": null,
   "metadata": {},
   "outputs": [],
   "source": [
    "class area_triangle:\n",
    "    def __init__(self, var_a, var_b, var_c):\n",
    "        self.a = var_a\n",
    "        self.b = var_b\n",
    "        self.c = var_c\n",
    "        \n",
    "    def area(self):\n",
    "        s = (self.a + self.b + self.c)/2\n",
    "        return (s*(s-self.a)*(s-self.b)*(s-self.c)) ** 0.5\n",
    "    \n",
    "obj_area = area_triangle(3,5,7)\n",
    "obj_area.area()"
   ]
  },
  {
   "cell_type": "markdown",
   "metadata": {},
   "source": [
    "1.2\n",
    "Write a function filter_long_words() that takes a list of words and an integer n and returns the list\n",
    "of words that are longer than n."
   ]
  },
  {
   "cell_type": "code",
   "execution_count": null,
   "metadata": {},
   "outputs": [],
   "source": [
    "def long_words(word_ls, n):\n",
    "    return(i for i in word_ls if len(i) >= n)\n",
    "\n",
    "def filter_long_words():\n",
    "    words = input('Enter list of words    :').split(' ')\n",
    "    l =  int(input (\"Enter limit   : \"))\n",
    "    print(', '.join(long_words(words, l)))\n",
    "    \n",
    "filter_long_words()"
   ]
  },
  {
   "cell_type": "markdown",
   "metadata": {},
   "source": [
    "2.1\n",
    "Write a Python program using function concept that maps list of words into a list of integers\n",
    "representing the lengths of the corresponding words .\n",
    "Hint: If a list [ ab,cde,erty] is passed on to the python function output should come as [2,3,4]\n",
    "Here 2,3 and 4 are the lengths of the words in the list."
   ]
  },
  {
   "cell_type": "code",
   "execution_count": null,
   "metadata": {},
   "outputs": [],
   "source": [
    "def ls_len(n):\n",
    "    return len(n)\n",
    "\n",
    "def ls_str():\n",
    "    str = input('Enter list separated by spaces  :').split()\n",
    "    x = map(ls_len, str)\n",
    "    return(list(x))\n",
    "\n",
    "ls_str()"
   ]
  },
  {
   "cell_type": "markdown",
   "metadata": {},
   "source": [
    "2.2\n",
    "Write a Python function which takes a character (i.e. a string of length 1) and returns True if it is\n",
    "a vowel, False otherwise."
   ]
  },
  {
   "cell_type": "code",
   "execution_count": null,
   "metadata": {},
   "outputs": [],
   "source": [
    "ls_vowels = ['a','e','i','o','u','A','E','I','O','U']\n",
    "ls_v = input('Enter any character :  ')\n",
    "\n",
    "def check_vowels():\n",
    "    if ls_v in ls_vowels:\n",
    "        return True\n",
    "    else:\n",
    "        return False\n",
    "    \n",
    "check_vowels()\n"
   ]
  }
 ],
 "metadata": {
  "kernelspec": {
   "display_name": "Python 3",
   "language": "python",
   "name": "python3"
  },
  "language_info": {
   "codemirror_mode": {
    "name": "ipython",
    "version": 3
   },
   "file_extension": ".py",
   "mimetype": "text/x-python",
   "name": "python",
   "nbconvert_exporter": "python",
   "pygments_lexer": "ipython3",
   "version": "3.7.4"
  }
 },
 "nbformat": 4,
 "nbformat_minor": 2
}
